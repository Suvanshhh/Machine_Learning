{
 "cells": [
  {
   "cell_type": "code",
   "execution_count": null,
   "id": "92e8ae38-0640-4c62-886c-85c9f34141c4",
   "metadata": {},
   "outputs": [],
   "source": [
    "import json\n",
    "import tensorfloas tf\n",
    "import numpy as np\n",
    "import pandas as pd\n",
    "impo"
   ]
  }
 ],
 "metadata": {
  "kernelspec": {
   "display_name": "Python 3 (ipykernel)",
   "language": "python",
   "name": "python3"
  },
  "language_info": {
   "codemirror_mode": {
    "name": "ipython",
    "version": 3
   },
   "file_extension": ".py",
   "mimetype": "text/x-python",
   "name": "python",
   "nbconvert_exporter": "python",
   "pygments_lexer": "ipython3",
   "version": "3.11.3"
  }
 },
 "nbformat": 4,
 "nbformat_minor": 5
}
