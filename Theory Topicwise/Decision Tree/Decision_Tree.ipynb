{
 "cells": [
  {
   "cell_type": "markdown",
   "id": "c30a529b",
   "metadata": {},
   "source": [
    "# DECISION TREE ALGORITHM"
   ]
  },
  {
   "cell_type": "markdown",
   "id": "bea06383",
   "metadata": {},
   "source": [
    "**Pseudo Code**\n",
    "\n",
    "1.Begin with your training dataset, which should have some feature variables and classification or regression output.\n",
    "\n",
    "2.Determine the \"best feature\" in the dataset to split the data on; we call this best feature as \"root node\".\n",
    "\n",
    "3.Split the data into subsets that contain the correct value for the best feature. This splitting basically defines a node on the tree i.e. each node is a splitting point based on a certain feature from our data.\n",
    "\n",
    "4.Recursively generate new tree nodes by using data created from step 3."
   ]
  },
  {
   "cell_type": "markdown",
   "id": "b495dc90",
   "metadata": {},
   "source": [
    "**Conclusion**\n",
    "Programatically speaking, Decision trees are nothing but a gaint structure of nested if-else condition."
   ]
  },
  {
   "cell_type": "markdown",
   "id": "7d9a7d06",
   "metadata": {},
   "source": [
    "**Terminologies**\n",
    "Root node(Most imp, best feature, first node) , Splitting , Branch/Subtree , Desicion node , Leaf node(Last node)"
   ]
  },
  {
   "cell_type": "markdown",
   "id": "d8ddbf95",
   "metadata": {},
   "source": [
    "**1.How to decide which column should be considered as root node?**\n",
    "\n",
    "**2.How ot select subsequent decison node?**\n",
    "\n",
    "**3.How to decide splitting criteria in case of numerical columns?**"
   ]
  },
  {
   "cell_type": "markdown",
   "id": "2d8018ed",
   "metadata": {},
   "source": [
    "**NOTE:** Decision Tree algorithm is also known as CART(Classification And Regression Trees) because apart from Classification problems it is also applicable in case of Regression problems."
   ]
  },
  {
   "cell_type": "markdown",
   "id": "163d205f",
   "metadata": {},
   "source": [
    "## Entropy"
   ]
  },
  {
   "cell_type": "markdown",
   "id": "9b89f549",
   "metadata": {},
   "source": [
    "In most layman terms, Entropy is nothing but the measure of randomness or disorder. "
   ]
  },
  {
   "cell_type": "markdown",
   "id": "927a4dc4",
   "metadata": {},
   "source": [
    "**Overfitting**\n"
   ]
  },
  {
   "cell_type": "code",
   "execution_count": 1,
   "id": "252c8b21",
   "metadata": {},
   "outputs": [],
   "source": [
    "import pandas as pd\n",
    "import numpy as np\n",
    "import matplotlib.pyplot as plt\n",
    "from sklearn.tree import DecisionTreeClassifier"
   ]
  },
  {
   "cell_type": "code",
   "execution_count": 13,
   "id": "6ca42ffe",
   "metadata": {},
   "outputs": [],
   "source": [
    "def analyzer(max_depth):\n",
    "    data=pd.read_csv(\"Social_Network_Ads.csv\")\n",
    "    X=data.iloc[:,2:4].values\n",
    "    Y=data.iloc[:,-1].values\n",
    "    \n",
    "    clf=DecisionTreeClassifier(max_depth=max_depth)\n",
    "    clf.fit(X,Y)\n",
    "    \n",
    "    a=np.arange(start=X[:,0].min()-1, stop=X[:,0].max()+1, step=0.1)\n",
    "    b=np.arange(start=X[:,0].min()-1, stop=X[:,0].max()+1, step=100)\n",
    "    \n",
    "    XX,YY=np.meshgrid(a,b)\n",
    "    \n",
    "    input_array=np.array([XX.ravel(),YY.ravel()]).T\n",
    "    \n",
    "    labels=clf.predict(input_array)\n",
    "    \n",
    "    plt.contour(XX,YY,labels.reshape(XX.shape),aplha=0.5)\n",
    "    plt.scatter(X[:,0],X[:,1],c=y)\n",
    "    "
   ]
  },
  {
   "cell_type": "code",
   "execution_count": 14,
   "id": "204e3de8",
   "metadata": {},
   "outputs": [
    {
     "ename": "ValueError",
     "evalue": "X has 2 features, but DecisionTreeClassifier is expecting 1 features as input.",
     "output_type": "error",
     "traceback": [
      "\u001b[1;31m---------------------------------------------------------------------------\u001b[0m",
      "\u001b[1;31mValueError\u001b[0m                                Traceback (most recent call last)",
      "Cell \u001b[1;32mIn[14], line 1\u001b[0m\n\u001b[1;32m----> 1\u001b[0m analyzer(max_depth\u001b[38;5;241m=\u001b[39m\u001b[38;5;28;01mNone\u001b[39;00m)\n",
      "Cell \u001b[1;32mIn[13], line 16\u001b[0m, in \u001b[0;36manalyzer\u001b[1;34m(max_depth)\u001b[0m\n\u001b[0;32m     12\u001b[0m XX,YY\u001b[38;5;241m=\u001b[39mnp\u001b[38;5;241m.\u001b[39mmeshgrid(a,b)\n\u001b[0;32m     14\u001b[0m input_array\u001b[38;5;241m=\u001b[39mnp\u001b[38;5;241m.\u001b[39marray([XX\u001b[38;5;241m.\u001b[39mravel(),YY\u001b[38;5;241m.\u001b[39mravel()])\u001b[38;5;241m.\u001b[39mT\n\u001b[1;32m---> 16\u001b[0m labels\u001b[38;5;241m=\u001b[39mclf\u001b[38;5;241m.\u001b[39mpredict(input_array)\n\u001b[0;32m     18\u001b[0m plt\u001b[38;5;241m.\u001b[39mcontour(XX,YY,labels\u001b[38;5;241m.\u001b[39mreshape(XX\u001b[38;5;241m.\u001b[39mshape),aplha\u001b[38;5;241m=\u001b[39m\u001b[38;5;241m0.5\u001b[39m)\n\u001b[0;32m     19\u001b[0m plt\u001b[38;5;241m.\u001b[39mscatter(X[:,\u001b[38;5;241m0\u001b[39m],X[:,\u001b[38;5;241m1\u001b[39m],c\u001b[38;5;241m=\u001b[39my)\n",
      "File \u001b[1;32m~\\New folder\\Lib\\site-packages\\sklearn\\tree\\_classes.py:505\u001b[0m, in \u001b[0;36mBaseDecisionTree.predict\u001b[1;34m(self, X, check_input)\u001b[0m\n\u001b[0;32m    482\u001b[0m \u001b[38;5;250m\u001b[39m\u001b[38;5;124;03m\"\"\"Predict class or regression value for X.\u001b[39;00m\n\u001b[0;32m    483\u001b[0m \n\u001b[0;32m    484\u001b[0m \u001b[38;5;124;03mFor a classification model, the predicted class for each sample in X is\u001b[39;00m\n\u001b[1;32m   (...)\u001b[0m\n\u001b[0;32m    502\u001b[0m \u001b[38;5;124;03m    The predicted classes, or the predict values.\u001b[39;00m\n\u001b[0;32m    503\u001b[0m \u001b[38;5;124;03m\"\"\"\u001b[39;00m\n\u001b[0;32m    504\u001b[0m check_is_fitted(\u001b[38;5;28mself\u001b[39m)\n\u001b[1;32m--> 505\u001b[0m X \u001b[38;5;241m=\u001b[39m \u001b[38;5;28mself\u001b[39m\u001b[38;5;241m.\u001b[39m_validate_X_predict(X, check_input)\n\u001b[0;32m    506\u001b[0m proba \u001b[38;5;241m=\u001b[39m \u001b[38;5;28mself\u001b[39m\u001b[38;5;241m.\u001b[39mtree_\u001b[38;5;241m.\u001b[39mpredict(X)\n\u001b[0;32m    507\u001b[0m n_samples \u001b[38;5;241m=\u001b[39m X\u001b[38;5;241m.\u001b[39mshape[\u001b[38;5;241m0\u001b[39m]\n",
      "File \u001b[1;32m~\\New folder\\Lib\\site-packages\\sklearn\\tree\\_classes.py:471\u001b[0m, in \u001b[0;36mBaseDecisionTree._validate_X_predict\u001b[1;34m(self, X, check_input)\u001b[0m\n\u001b[0;32m    469\u001b[0m \u001b[38;5;250m\u001b[39m\u001b[38;5;124;03m\"\"\"Validate the training data on predict (probabilities).\"\"\"\u001b[39;00m\n\u001b[0;32m    470\u001b[0m \u001b[38;5;28;01mif\u001b[39;00m check_input:\n\u001b[1;32m--> 471\u001b[0m     X \u001b[38;5;241m=\u001b[39m \u001b[38;5;28mself\u001b[39m\u001b[38;5;241m.\u001b[39m_validate_data(X, dtype\u001b[38;5;241m=\u001b[39mDTYPE, accept_sparse\u001b[38;5;241m=\u001b[39m\u001b[38;5;124m\"\u001b[39m\u001b[38;5;124mcsr\u001b[39m\u001b[38;5;124m\"\u001b[39m, reset\u001b[38;5;241m=\u001b[39m\u001b[38;5;28;01mFalse\u001b[39;00m)\n\u001b[0;32m    472\u001b[0m     \u001b[38;5;28;01mif\u001b[39;00m issparse(X) \u001b[38;5;129;01mand\u001b[39;00m (\n\u001b[0;32m    473\u001b[0m         X\u001b[38;5;241m.\u001b[39mindices\u001b[38;5;241m.\u001b[39mdtype \u001b[38;5;241m!=\u001b[39m np\u001b[38;5;241m.\u001b[39mintc \u001b[38;5;129;01mor\u001b[39;00m X\u001b[38;5;241m.\u001b[39mindptr\u001b[38;5;241m.\u001b[39mdtype \u001b[38;5;241m!=\u001b[39m np\u001b[38;5;241m.\u001b[39mintc\n\u001b[0;32m    474\u001b[0m     ):\n\u001b[0;32m    475\u001b[0m         \u001b[38;5;28;01mraise\u001b[39;00m \u001b[38;5;167;01mValueError\u001b[39;00m(\u001b[38;5;124m\"\u001b[39m\u001b[38;5;124mNo support for np.int64 index based sparse matrices\u001b[39m\u001b[38;5;124m\"\u001b[39m)\n",
      "File \u001b[1;32m~\\New folder\\Lib\\site-packages\\sklearn\\base.py:600\u001b[0m, in \u001b[0;36mBaseEstimator._validate_data\u001b[1;34m(self, X, y, reset, validate_separately, **check_params)\u001b[0m\n\u001b[0;32m    597\u001b[0m     out \u001b[38;5;241m=\u001b[39m X, y\n\u001b[0;32m    599\u001b[0m \u001b[38;5;28;01mif\u001b[39;00m \u001b[38;5;129;01mnot\u001b[39;00m no_val_X \u001b[38;5;129;01mand\u001b[39;00m check_params\u001b[38;5;241m.\u001b[39mget(\u001b[38;5;124m\"\u001b[39m\u001b[38;5;124mensure_2d\u001b[39m\u001b[38;5;124m\"\u001b[39m, \u001b[38;5;28;01mTrue\u001b[39;00m):\n\u001b[1;32m--> 600\u001b[0m     \u001b[38;5;28mself\u001b[39m\u001b[38;5;241m.\u001b[39m_check_n_features(X, reset\u001b[38;5;241m=\u001b[39mreset)\n\u001b[0;32m    602\u001b[0m \u001b[38;5;28;01mreturn\u001b[39;00m out\n",
      "File \u001b[1;32m~\\New folder\\Lib\\site-packages\\sklearn\\base.py:400\u001b[0m, in \u001b[0;36mBaseEstimator._check_n_features\u001b[1;34m(self, X, reset)\u001b[0m\n\u001b[0;32m    397\u001b[0m     \u001b[38;5;28;01mreturn\u001b[39;00m\n\u001b[0;32m    399\u001b[0m \u001b[38;5;28;01mif\u001b[39;00m n_features \u001b[38;5;241m!=\u001b[39m \u001b[38;5;28mself\u001b[39m\u001b[38;5;241m.\u001b[39mn_features_in_:\n\u001b[1;32m--> 400\u001b[0m     \u001b[38;5;28;01mraise\u001b[39;00m \u001b[38;5;167;01mValueError\u001b[39;00m(\n\u001b[0;32m    401\u001b[0m         \u001b[38;5;124mf\u001b[39m\u001b[38;5;124m\"\u001b[39m\u001b[38;5;124mX has \u001b[39m\u001b[38;5;132;01m{\u001b[39;00mn_features\u001b[38;5;132;01m}\u001b[39;00m\u001b[38;5;124m features, but \u001b[39m\u001b[38;5;132;01m{\u001b[39;00m\u001b[38;5;28mself\u001b[39m\u001b[38;5;241m.\u001b[39m\u001b[38;5;18m__class__\u001b[39m\u001b[38;5;241m.\u001b[39m\u001b[38;5;18m__name__\u001b[39m\u001b[38;5;132;01m}\u001b[39;00m\u001b[38;5;124m \u001b[39m\u001b[38;5;124m\"\u001b[39m\n\u001b[0;32m    402\u001b[0m         \u001b[38;5;124mf\u001b[39m\u001b[38;5;124m\"\u001b[39m\u001b[38;5;124mis expecting \u001b[39m\u001b[38;5;132;01m{\u001b[39;00m\u001b[38;5;28mself\u001b[39m\u001b[38;5;241m.\u001b[39mn_features_in_\u001b[38;5;132;01m}\u001b[39;00m\u001b[38;5;124m features as input.\u001b[39m\u001b[38;5;124m\"\u001b[39m\n\u001b[0;32m    403\u001b[0m     )\n",
      "\u001b[1;31mValueError\u001b[0m: X has 2 features, but DecisionTreeClassifier is expecting 1 features as input."
     ]
    }
   ],
   "source": [
    "analyzer(max_depth=None)"
   ]
  },
  {
   "cell_type": "code",
   "execution_count": null,
   "id": "a6139d9f",
   "metadata": {},
   "outputs": [],
   "source": []
  }
 ],
 "metadata": {
  "kernelspec": {
   "display_name": "Python 3 (ipykernel)",
   "language": "python",
   "name": "python3"
  },
  "language_info": {
   "codemirror_mode": {
    "name": "ipython",
    "version": 3
   },
   "file_extension": ".py",
   "mimetype": "text/x-python",
   "name": "python",
   "nbconvert_exporter": "python",
   "pygments_lexer": "ipython3",
   "version": "3.11.3"
  }
 },
 "nbformat": 4,
 "nbformat_minor": 5
}
